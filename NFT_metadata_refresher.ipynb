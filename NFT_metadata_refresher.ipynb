{
 "cells": [
  {
   "cell_type": "code",
   "execution_count": null,
   "id": "0ba162dc",
   "metadata": {},
   "outputs": [],
   "source": [
    "'''\n",
    "quick and dirty script that refreshes every NFT in collection\n",
    "'''\n",
    "#CONFIGURATION\n",
    "CONTRACT='0xbd1d2ea3127587f4ecfd271e1dadfc95320b8dea' #nft contract address\n",
    "START=1 # First token ID to refresh\n",
    "FINISH = 1330 #last token ID to refresh\n",
    "API_KEY= '' #your opensea API key\n",
    "SLEEP_TIME=0.1\n",
    "\n",
    "\n",
    "import requests\n",
    "import time\n",
    "headers = {\n",
    "    \"Accept\": \"application/json\",\n",
    "    \"X-API-KEY\": API_KEY\n",
    "}\n",
    "\n",
    "\"\"\" don't use this to bypass API key requirement\n",
    "if API_KEY is None:\n",
    "    headers = {'User-Agent': 'Mozilla/5.0 (Macintosh; Intel Mac OS X 10_10_1) AppleWebKit/537.36 (KHTML, like Gecko) Chrome/39.0.2171.95 Safari/537.36'}\n",
    "\"\"\"\n",
    "for token_id in range(START,FINISH+1):\n",
    "    url='https://api.opensea.io/api/v1/asset/{}/{}/?force_update=true'.format(CONTRACT,str(token_id))\n",
    "    response = requests.request(\"GET\", url,headers=headers)\n",
    "    while response.status_code!=200:\n",
    "        response = requests.request(\"GET\", url,headers=headers)\n",
    "        print('error refreshing #'+str(token_id))\n",
    "        time.sleep(SLEEP_TIME*20)\n",
    "    time.sleep(SLEEP_TIME)"
   ]
  }
 ],
 "metadata": {
  "kernelspec": {
   "display_name": "Python 3",
   "language": "python",
   "name": "python3"
  },
  "language_info": {
   "codemirror_mode": {
    "name": "ipython",
    "version": 3
   },
   "file_extension": ".py",
   "mimetype": "text/x-python",
   "name": "python",
   "nbconvert_exporter": "python",
   "pygments_lexer": "ipython3",
   "version": "3.9.5"
  }
 },
 "nbformat": 4,
 "nbformat_minor": 5
}
